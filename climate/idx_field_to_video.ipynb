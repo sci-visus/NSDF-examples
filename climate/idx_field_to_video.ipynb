{
 "cells": [
  {
   "cell_type": "code",
   "id": "initial_id",
   "metadata": {
    "collapsed": true,
    "ExecuteTime": {
     "end_time": "2024-05-30T20:37:44.748781Z",
     "start_time": "2024-05-30T20:37:41.715486Z"
    }
   },
   "source": [
    "import os\n",
    "import numpy as np\n",
    "import xarray as xr\n",
    "import pandas as pd\n",
    "import matplotlib.pyplot as plt\n",
    "import cartopy.crs as ccrs\n",
    "import cv2\n",
    "\n",
    "from OpenVisus import *\n",
    "from io import BytesIO\n",
    "from tqdm import tqdm"
   ],
   "outputs": [],
   "execution_count": 1
  },
  {
   "metadata": {},
   "cell_type": "markdown",
   "source": "## Define some helper functions",
   "id": "ab0d5bb2b6e7546f"
  },
  {
   "metadata": {
    "ExecuteTime": {
     "end_time": "2024-05-30T20:37:55.098803Z",
     "start_time": "2024-05-30T20:37:55.095153Z"
    }
   },
   "cell_type": "code",
   "source": [
    "def get_date_from_timestep(timestep: int) -> datetime.datetime:\n",
    "    year = math.floor(timestep / 365)\n",
    "    day = (timestep % 365)\n",
    "    \n",
    "    start_year = datetime.datetime(year=year, month=1, day=1)\n",
    "    \n",
    "    return start_year + datetime.timedelta(days=day)\n",
    "    "
   ],
   "id": "88fbf1d99b245ca1",
   "outputs": [],
   "execution_count": 2
  },
  {
   "metadata": {},
   "cell_type": "markdown",
   "source": "## Define variables for the video",
   "id": "39364c5521c547f3"
  },
  {
   "metadata": {
    "ExecuteTime": {
     "end_time": "2024-05-30T20:37:55.346898Z",
     "start_time": "2024-05-30T20:37:55.342909Z"
    }
   },
   "cell_type": "code",
   "source": [
    "local_idx_file = '../NEX-GDDP-CMIP6_data/idx/day_ACCESS-CM2_historical_r1i1p1f1_gn.idx'\n",
    "video_file_name = 'hurs_timestep_video.mp4'\n",
    "frames_per_second = 6\n",
    "field = 'hurs'\n",
    "field_unit = '%'\n",
    "field_full_name = 'Near-Surface Relative Humidity'\n",
    "colormap = 'GnBu'"
   ],
   "id": "7080c3f394c2f813",
   "outputs": [],
   "execution_count": 3
  },
  {
   "metadata": {},
   "cell_type": "markdown",
   "source": "## Load the IDX file and create the video",
   "id": "b3eef1a028714c1e"
  },
  {
   "metadata": {
    "ExecuteTime": {
     "end_time": "2024-05-30T20:37:56.054698Z",
     "start_time": "2024-05-30T20:37:55.623879Z"
    }
   },
   "cell_type": "code",
   "source": [
    "idx_file = LoadDataset(local_idx_file)\n",
    "time_steps = idx_file.getTimesteps()\n",
    "\n",
    "# Flip dimensions for OpenCV\n",
    "frame_size = (idx_file.shape[1], idx_file.shape[0])\n",
    "\n",
    "video = cv2.VideoWriter(video_file_name, cv2.VideoWriter_fourcc(*'mp4v'), frames_per_second, frame_size)"
   ],
   "id": "c4ca1e3a7834b9ba",
   "outputs": [
    {
     "ename": "SystemError",
     "evalue": "Error in swig director code what Visus throwing exception where(D:\\a\\OpenVisus\\OpenVisus\\Libs\\Db\\src\\Dataset.cpp:311) what(empty content) where D:\\a\\OpenVisus\\OpenVisus\\build_windows\\Release\\VisusDbPyPYTHON_wrap.cxx : 29796 \n <no error?>",
     "output_type": "error",
     "traceback": [
      "\u001B[1;31m---------------------------------------------------------------------------\u001B[0m",
      "\u001B[1;31mSystemError\u001B[0m                               Traceback (most recent call last)",
      "Cell \u001B[1;32mIn[4], line 1\u001B[0m\n\u001B[1;32m----> 1\u001B[0m idx_file \u001B[38;5;241m=\u001B[39m \u001B[43mLoadDataset\u001B[49m\u001B[43m(\u001B[49m\u001B[43mlocal_idx_file\u001B[49m\u001B[43m)\u001B[49m\n\u001B[0;32m      2\u001B[0m time_steps \u001B[38;5;241m=\u001B[39m idx_file\u001B[38;5;241m.\u001B[39mgetTimesteps()\n\u001B[0;32m      4\u001B[0m \u001B[38;5;66;03m# Flip dimensions for OpenCV\u001B[39;00m\n",
      "File \u001B[1;32m~\\AppData\\Local\\Programs\\Python\\Python312\\Lib\\site-packages\\OpenVisus\\VisusDbPy.py:159\u001B[0m, in \u001B[0;36mLoadDataset\u001B[1;34m(url, cache_dir)\u001B[0m\n\u001B[0;32m    157\u001B[0m \u001B[38;5;28;01mdef\u001B[39;00m \u001B[38;5;21mLoadDataset\u001B[39m(url, cache_dir\u001B[38;5;241m=\u001B[39m\u001B[38;5;124m\"\u001B[39m\u001B[38;5;124m\"\u001B[39m):\n\u001B[0;32m    158\u001B[0m \t\u001B[38;5;28;01mfrom\u001B[39;00m \u001B[38;5;21;01mOpenVisus\u001B[39;00m\u001B[38;5;21;01m.\u001B[39;00m\u001B[38;5;21;01mdataset\u001B[39;00m \u001B[38;5;28;01mimport\u001B[39;00m PyDataset\n\u001B[1;32m--> 159\u001B[0m \t\u001B[38;5;28;01mreturn\u001B[39;00m PyDataset(\u001B[43mLoadDatasetCpp\u001B[49m\u001B[43m(\u001B[49m\u001B[43murl\u001B[49m\u001B[43m,\u001B[49m\u001B[43m \u001B[49m\u001B[43mcache_dir\u001B[49m\u001B[43m)\u001B[49m)\n",
      "File \u001B[1;32m~\\AppData\\Local\\Programs\\Python\\Python312\\Lib\\site-packages\\OpenVisus\\VisusDbPy.py:1176\u001B[0m, in \u001B[0;36mLoadDatasetCpp\u001B[1;34m(*args)\u001B[0m\n\u001B[0;32m   1175\u001B[0m \u001B[38;5;28;01mdef\u001B[39;00m \u001B[38;5;21mLoadDatasetCpp\u001B[39m(\u001B[38;5;241m*\u001B[39margs):\n\u001B[1;32m-> 1176\u001B[0m     \u001B[38;5;28;01mreturn\u001B[39;00m \u001B[43m_VisusDbPy\u001B[49m\u001B[38;5;241;43m.\u001B[39;49m\u001B[43mLoadDatasetCpp\u001B[49m\u001B[43m(\u001B[49m\u001B[38;5;241;43m*\u001B[39;49m\u001B[43margs\u001B[49m\u001B[43m)\u001B[49m\n",
      "\u001B[1;31mSystemError\u001B[0m: Error in swig director code what Visus throwing exception where(D:\\a\\OpenVisus\\OpenVisus\\Libs\\Db\\src\\Dataset.cpp:311) what(empty content) where D:\\a\\OpenVisus\\OpenVisus\\build_windows\\Release\\VisusDbPyPYTHON_wrap.cxx : 29796 \n <no error?>"
     ]
    }
   ],
   "execution_count": 4
  },
  {
   "metadata": {},
   "cell_type": "markdown",
   "source": "## Calculate the min / max of the values",
   "id": "86c6e00c60dc954c"
  },
  {
   "metadata": {
    "ExecuteTime": {
     "end_time": "2024-05-30T20:37:56.469608Z",
     "start_time": "2024-05-30T20:37:56.454136Z"
    }
   },
   "cell_type": "code",
   "source": [
    "max_value = 0\n",
    "min_value = 0\n",
    "\n",
    "first = True\n",
    "for time_step in tqdm(time_steps):\n",
    "    data = idx_file.read(field=field, time=time_step)\n",
    "    \n",
    "    if first:\n",
    "        first = False\n",
    "        min_value = np.nanmin(data)\n",
    "        max_value = np.nanmax(data)\n",
    "    else:\n",
    "        min_value = min(min_value, np.nanmin(data))\n",
    "        max_value = max(max_value, np.nanmax(data))\n",
    "        \n",
    "print(f'({min_value}, {max_value})')"
   ],
   "id": "960e94d7c8bcdb28",
   "outputs": [
    {
     "ename": "NameError",
     "evalue": "name 'time_steps' is not defined",
     "output_type": "error",
     "traceback": [
      "\u001B[1;31m---------------------------------------------------------------------------\u001B[0m",
      "\u001B[1;31mNameError\u001B[0m                                 Traceback (most recent call last)",
      "Cell \u001B[1;32mIn[5], line 5\u001B[0m\n\u001B[0;32m      2\u001B[0m min_value \u001B[38;5;241m=\u001B[39m \u001B[38;5;241m0\u001B[39m\n\u001B[0;32m      4\u001B[0m first \u001B[38;5;241m=\u001B[39m \u001B[38;5;28;01mTrue\u001B[39;00m\n\u001B[1;32m----> 5\u001B[0m \u001B[38;5;28;01mfor\u001B[39;00m time_step \u001B[38;5;129;01min\u001B[39;00m tqdm(\u001B[43mtime_steps\u001B[49m):\n\u001B[0;32m      6\u001B[0m     data \u001B[38;5;241m=\u001B[39m idx_file\u001B[38;5;241m.\u001B[39mread(field\u001B[38;5;241m=\u001B[39mfield, time\u001B[38;5;241m=\u001B[39mtime_step)\n\u001B[0;32m      8\u001B[0m     \u001B[38;5;28;01mif\u001B[39;00m first:\n",
      "\u001B[1;31mNameError\u001B[0m: name 'time_steps' is not defined"
     ]
    }
   ],
   "execution_count": 5
  },
  {
   "metadata": {},
   "cell_type": "markdown",
   "source": "## Read all timesteps and plot them",
   "id": "8cb84fef48ffbecd"
  },
  {
   "metadata": {},
   "cell_type": "code",
   "source": [
    "for time_step in tqdm(time_steps):\n",
    "    data = idx_file.read(field=field, time=time_step)\n",
    "    title = f'{field_full_name}: {get_date_from_timestep(time_step).date()}'\n",
    "    extent = [0.125, 359.875, -59.875, 89.875]\n",
    "    \n",
    "    fig = plt.figure(figsize=(16, 6))\n",
    "    axes = plt.axes(projection=ccrs.PlateCarree())\n",
    "    plot = axes.imshow(data, aspect='auto', extent=extent, origin='lower', cmap=colormap, vmin=min_value, vmax=max_value)\n",
    "    axes.coastlines()\n",
    "    axes.gridlines(draw_labels=True)\n",
    "    axes.set_xlabel('Longitude')\n",
    "    axes.set_ylabel('Latitude')\n",
    "    fig.suptitle(title)\n",
    "    fig.colorbar(plot, location='right', pad=0.05, label=f'{field} ({field_unit})')\n",
    "    \n",
    "    buffer = BytesIO()\n",
    "    plt.savefig(buffer, format='png')\n",
    "    buffer.seek(0)\n",
    "    \n",
    "    # Close plot\n",
    "    fig.clear()\n",
    "    plt.close(fig)\n",
    "    \n",
    "    # Convert BytesIO to numpy array\n",
    "    img_array = np.frombuffer(buffer.getvalue(), dtype=np.uint8)\n",
    "    img = cv2.imdecode(img_array, cv2.IMREAD_COLOR)\n",
    "    \n",
    "    # Resize image to frame size and write to video\n",
    "    img_resized = cv2.resize(img, frame_size)\n",
    "    video.write(img_resized)\n",
    "    \n",
    "    break\n",
    "\n",
    "video.release()"
   ],
   "id": "1f30b590b5a170a0",
   "outputs": [],
   "execution_count": null
  },
  {
   "metadata": {},
   "cell_type": "code",
   "source": "",
   "id": "28eec272eecb9154",
   "outputs": [],
   "execution_count": null
  }
 ],
 "metadata": {
  "kernelspec": {
   "display_name": "Python 3",
   "language": "python",
   "name": "python3"
  },
  "language_info": {
   "codemirror_mode": {
    "name": "ipython",
    "version": 2
   },
   "file_extension": ".py",
   "mimetype": "text/x-python",
   "name": "python",
   "nbconvert_exporter": "python",
   "pygments_lexer": "ipython2",
   "version": "2.7.6"
  }
 },
 "nbformat": 4,
 "nbformat_minor": 5
}
