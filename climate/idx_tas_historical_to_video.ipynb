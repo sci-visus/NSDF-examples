{
 "cells": [
  {
   "cell_type": "code",
   "id": "initial_id",
   "metadata": {
    "collapsed": true
   },
   "source": [
    "import os\n",
    "import numpy as np\n",
    "import xarray as xr\n",
    "import pandas as pd\n",
    "import matplotlib.pyplot as plt\n",
    "import cartopy.crs as ccrs\n",
    "import cv2\n",
    "\n",
    "from OpenVisus import *\n",
    "from io import BytesIO\n",
    "from tqdm import tqdm"
   ],
   "outputs": [],
   "execution_count": null
  },
  {
   "metadata": {},
   "cell_type": "markdown",
   "source": "## Define some helper functions",
   "id": "ab0d5bb2b6e7546f"
  },
  {
   "metadata": {},
   "cell_type": "code",
   "source": [
    "def get_date_from_timestep(timestep: int) -> datetime.datetime:\n",
    "    year = math.floor(timestep / 365)\n",
    "    day = (timestep % 365)\n",
    "    \n",
    "    start_year = datetime.datetime(year=year, month=1, day=1)\n",
    "    \n",
    "    return start_year + datetime.timedelta(days=day)\n",
    "    "
   ],
   "id": "88fbf1d99b245ca1",
   "outputs": [],
   "execution_count": null
  },
  {
   "metadata": {},
   "cell_type": "markdown",
   "source": "## Define variables for the video",
   "id": "39364c5521c547f3"
  },
  {
   "metadata": {},
   "cell_type": "code",
   "source": [
    "local_idx_file = '../NEX-GDDP-CMIP6_data/idx/day_ACCESS-CM2_historical_r1i1p1f1_gn.idx'\n",
    "video_file_name = 'tas_timestep_video.mp4'\n",
    "frames_per_second = 6\n",
    "# https://planetarycomputer.microsoft.com/dataset/nasa-nex-gddp-cmip6\n",
    "field = 'tas'\n",
    "field_unit = 'K'\n",
    "field_full_name = 'Daily Near-Surface Air Temperature'\n",
    "# https://matplotlib.org/stable/users/explain/colors/colormaps.html\n",
    "colormap = 'YlOrRd'"
   ],
   "id": "7080c3f394c2f813",
   "outputs": [],
   "execution_count": null
  },
  {
   "metadata": {},
   "cell_type": "markdown",
   "source": "## Load the IDX file and create the video",
   "id": "b3eef1a028714c1e"
  },
  {
   "metadata": {},
   "cell_type": "code",
   "source": [
    "idx_file = LoadDataset(local_idx_file)\n",
    "time_steps = idx_file.getTimesteps()\n",
    "\n",
    "# Flip dimensions for OpenCV\n",
    "frame_size = (idx_file.shape[1], idx_file.shape[0])\n",
    "\n",
    "video = cv2.VideoWriter(video_file_name, cv2.VideoWriter_fourcc(*'mp4v'), frames_per_second, frame_size)"
   ],
   "id": "c4ca1e3a7834b9ba",
   "outputs": [],
   "execution_count": null
  },
  {
   "metadata": {},
   "cell_type": "markdown",
   "source": "## Calculate the min / max of the values",
   "id": "86c6e00c60dc954c"
  },
  {
   "metadata": {},
   "cell_type": "code",
   "source": [
    "max_value = 0\n",
    "min_value = 0\n",
    "\n",
    "first = True\n",
    "for time_step in tqdm(time_steps):\n",
    "    data = idx_file.read(field=field, time=time_step)\n",
    "    \n",
    "    if first:\n",
    "        first = False\n",
    "        min_value = np.nanmin(data)\n",
    "        max_value = np.nanmax(data)\n",
    "    else:\n",
    "        min_value = min(min_value, np.nanmin(data))\n",
    "        max_value = max(max_value, np.nanmax(data))\n",
    "        \n",
    "print(f'({min_value}, {max_value})')"
   ],
   "id": "960e94d7c8bcdb28",
   "outputs": [],
   "execution_count": null
  },
  {
   "metadata": {},
   "cell_type": "markdown",
   "source": "## Read all timesteps and plot them",
   "id": "8cb84fef48ffbecd"
  },
  {
   "metadata": {},
   "cell_type": "code",
   "source": [
    "for time_step in tqdm(time_steps):\n",
    "    data = idx_file.read(field=field, time=time_step)\n",
    "    title = f'{field_full_name}: {get_date_from_timestep(time_step).date()}'\n",
    "    extent = [0.125, 359.875, -59.875, 89.875]\n",
    "    \n",
    "    fig = plt.figure(figsize=(16, 6))\n",
    "    axes = plt.axes(projection=ccrs.PlateCarree())\n",
    "    plot = axes.imshow(data, aspect='auto', extent=extent, origin='lower', cmap=colormap, vmin=min_value, vmax=max_value)\n",
    "    axes.coastlines()\n",
    "    axes.gridlines(draw_labels=True)\n",
    "    axes.set_xlabel('Longitude')\n",
    "    axes.set_ylabel('Latitude')\n",
    "    fig.suptitle(title)\n",
    "    fig.colorbar(plot, location='right', pad=0.05, label=f'{field} ({field_unit})')\n",
    "    \n",
    "    buffer = BytesIO()\n",
    "    plt.savefig(buffer, format='png')\n",
    "    buffer.seek(0)\n",
    "    \n",
    "    # Close plot\n",
    "    fig.clear()\n",
    "    plt.close(fig)\n",
    "    \n",
    "    # Convert BytesIO to numpy array\n",
    "    img_array = np.frombuffer(buffer.getvalue(), dtype=np.uint8)\n",
    "    img = cv2.imdecode(img_array, cv2.IMREAD_COLOR)\n",
    "    \n",
    "    # Resize image to frame size and write to video\n",
    "    img_resized = cv2.resize(img, frame_size)\n",
    "    video.write(img_resized)\n",
    "    \n",
    "video.release()"
   ],
   "id": "1f30b590b5a170a0",
   "outputs": [],
   "execution_count": null
  },
  {
   "metadata": {},
   "cell_type": "code",
   "source": "",
   "id": "28eec272eecb9154",
   "outputs": [],
   "execution_count": null
  }
 ],
 "metadata": {
  "kernelspec": {
   "display_name": "Python 3",
   "language": "python",
   "name": "python3"
  },
  "language_info": {
   "codemirror_mode": {
    "name": "ipython",
    "version": 2
   },
   "file_extension": ".py",
   "mimetype": "text/x-python",
   "name": "python",
   "nbconvert_exporter": "python",
   "pygments_lexer": "ipython2",
   "version": "2.7.6"
  }
 },
 "nbformat": 4,
 "nbformat_minor": 5
}
