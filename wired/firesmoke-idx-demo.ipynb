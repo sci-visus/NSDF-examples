{
 "cells": [
  {
   "cell_type": "markdown",
   "id": "ca4a48bc-5759-4493-9c86-8115d81615f7",
   "metadata": {
    "jp-MarkdownHeadingCollapsed": true
   },
   "source": [
    "| ![wired](https://www.sci.utah.edu/~pascucci/public/wired-logo-small.png)  | [WIRED Global Center](https://resilience.utah.edu/) + [National Science Data Fabric](https://nationalsciencedatafabric.org/) [Jupyter notebook](https://jupyter.org/) <br> created by [Arleth Z. Salinas](https://arlethzuri.github.io/), and [Valerio Pascucci](http://cedmav.com/)   |![nsdf](https://www.sci.utah.edu/~pascucci/public/NSDF-smaller.PNG)  |\n",
    "|:---|:---:|---:|\n",
    "\n",
    "\n",
    "###  WIRED Global Center  + National Science Data Fabric collaboration: example of direct use vis Jupoyter notebooks of  3 years of smke data over US and Canada stored in the cloud and dsitributed via regular internet connection.\n",
    "Data source: [BlueSky Canada smoke forecast](https://bluesky4.eos.ubc.ca/)"
   ]
  },
  {
   "cell_type": "markdown",
   "id": "ff5edf9e-1b2c-4e4f-bbac-70c0d7554e29",
   "metadata": {
    "tags": []
   },
   "source": [
    "## This notebook provide the instructions on how to read UBC firesmoke data from `firsmoke_metadata.nc` using xarray and the OpenVisus xarray backend."
   ]
  },
  {
   "cell_type": "markdown",
   "id": "9215a4e8-4d2a-421c-beb1-d0f650c5888f",
   "metadata": {},
   "source": [
    "Dashboard visible here: http://chpc3.nationalsciencedatafabric.org:9988/dashboards"
   ]
  },
  {
   "cell_type": "markdown",
   "id": "3ba0b27c-cda7-4c59-935d-50b7766303a4",
   "metadata": {},
   "source": [
    "## **Step 1: Importing the libraries**\n",
    "### Please be sure to have libraries installed"
   ]
  },
  {
   "cell_type": "code",
   "execution_count": 3,
   "id": "c9e182d7",
   "metadata": {
    "tags": []
   },
   "outputs": [],
   "source": [
    "# for numerical work\n",
    "import numpy as np\n",
    "\n",
    "# for accessing file system\n",
    "import os\n",
    "\n",
    "# for loading netcdf files, for metadata\n",
    "import xarray as xr\n",
    "from openvisuspy.xarray_backend import OpenVisusBackendEntrypoint\n",
    "\n",
    "# Used for processing netCDF time data\n",
    "import time\n",
    "import datetime\n",
    "\n",
    "# Used for indexing via metadata\n",
    "import pandas as pd\n",
    "\n",
    "# for plotting\n",
    "import matplotlib.pyplot as plt\n",
    "# import cartopy.crs as ccrs\n",
    "\n",
    "\n",
    "#Stores the OpenVisus cache in the local direcrtory \n",
    "import os\n",
    "os.environ[\"VISUS_CACHE\"]=\"./visus_cache_can_be_erased\""
   ]
  },
  {
   "cell_type": "markdown",
   "id": "79a02fb9-abd7-4168-9f2d-6700c10d8eba",
   "metadata": {
    "tags": []
   },
   "source": [
    "## **Step 2: Reading the data & metadata from file**\n",
    "### In this section, we load our data using `xr.open_dataset`."
   ]
  },
  {
   "cell_type": "code",
   "execution_count": 4,
   "id": "472f1b60-217f-4f50-96c5-2e079d53559a",
   "metadata": {
    "tags": []
   },
   "outputs": [
    {
     "name": "stdout",
     "output_type": "stream",
     "text": [
      "ov.LoadDataset(http://atlantis.sci.utah.edu/mod_visus?dataset=UBC_fire_smoke_BSC&cached=1)\n",
      "PM25\n",
      "Adding field  PM25 shape  [25053, 381, 1081, 21] dtype  float32 labels  ['time', 'ROW', 'COL', 'resolution'] Max Resolution  20\n"
     ]
    }
   ],
   "source": [
    "# path to tiny netcdf\n",
    "tiny_netcdf = \"firesmoke_metadata.nc\"\n",
    "\n",
    "# open tiny netcdf with xarray and OpenVisus backend\n",
    "ds = xr.open_dataset(tiny_netcdf, engine=OpenVisusBackendEntrypoint)"
   ]
  },
  {
   "cell_type": "code",
   "execution_count": 5,
   "id": "5753072d-e729-4172-88f6-fe69190ee82a",
   "metadata": {},
   "outputs": [
    {
     "data": {
      "text/html": [
       "<div><svg style=\"position: absolute; width: 0; height: 0; overflow: hidden\">\n",
       "<defs>\n",
       "<symbol id=\"icon-database\" viewBox=\"0 0 32 32\">\n",
       "<path d=\"M16 0c-8.837 0-16 2.239-16 5v4c0 2.761 7.163 5 16 5s16-2.239 16-5v-4c0-2.761-7.163-5-16-5z\"></path>\n",
       "<path d=\"M16 17c-8.837 0-16-2.239-16-5v6c0 2.761 7.163 5 16 5s16-2.239 16-5v-6c0 2.761-7.163 5-16 5z\"></path>\n",
       "<path d=\"M16 26c-8.837 0-16-2.239-16-5v6c0 2.761 7.163 5 16 5s16-2.239 16-5v-6c0 2.761-7.163 5-16 5z\"></path>\n",
       "</symbol>\n",
       "<symbol id=\"icon-file-text2\" viewBox=\"0 0 32 32\">\n",
       "<path d=\"M28.681 7.159c-0.694-0.947-1.662-2.053-2.724-3.116s-2.169-2.030-3.116-2.724c-1.612-1.182-2.393-1.319-2.841-1.319h-15.5c-1.378 0-2.5 1.121-2.5 2.5v27c0 1.378 1.122 2.5 2.5 2.5h23c1.378 0 2.5-1.122 2.5-2.5v-19.5c0-0.448-0.137-1.23-1.319-2.841zM24.543 5.457c0.959 0.959 1.712 1.825 2.268 2.543h-4.811v-4.811c0.718 0.556 1.584 1.309 2.543 2.268zM28 29.5c0 0.271-0.229 0.5-0.5 0.5h-23c-0.271 0-0.5-0.229-0.5-0.5v-27c0-0.271 0.229-0.5 0.5-0.5 0 0 15.499-0 15.5 0v7c0 0.552 0.448 1 1 1h7v19.5z\"></path>\n",
       "<path d=\"M23 26h-14c-0.552 0-1-0.448-1-1s0.448-1 1-1h14c0.552 0 1 0.448 1 1s-0.448 1-1 1z\"></path>\n",
       "<path d=\"M23 22h-14c-0.552 0-1-0.448-1-1s0.448-1 1-1h14c0.552 0 1 0.448 1 1s-0.448 1-1 1z\"></path>\n",
       "<path d=\"M23 18h-14c-0.552 0-1-0.448-1-1s0.448-1 1-1h14c0.552 0 1 0.448 1 1s-0.448 1-1 1z\"></path>\n",
       "</symbol>\n",
       "</defs>\n",
       "</svg>\n",
       "<style>/* CSS stylesheet for displaying xarray objects in jupyterlab.\n",
       " *\n",
       " */\n",
       "\n",
       ":root {\n",
       "  --xr-font-color0: var(--jp-content-font-color0, rgba(0, 0, 0, 1));\n",
       "  --xr-font-color2: var(--jp-content-font-color2, rgba(0, 0, 0, 0.54));\n",
       "  --xr-font-color3: var(--jp-content-font-color3, rgba(0, 0, 0, 0.38));\n",
       "  --xr-border-color: var(--jp-border-color2, #e0e0e0);\n",
       "  --xr-disabled-color: var(--jp-layout-color3, #bdbdbd);\n",
       "  --xr-background-color: var(--jp-layout-color0, white);\n",
       "  --xr-background-color-row-even: var(--jp-layout-color1, white);\n",
       "  --xr-background-color-row-odd: var(--jp-layout-color2, #eeeeee);\n",
       "}\n",
       "\n",
       "html[theme=dark],\n",
       "body[data-theme=dark],\n",
       "body.vscode-dark {\n",
       "  --xr-font-color0: rgba(255, 255, 255, 1);\n",
       "  --xr-font-color2: rgba(255, 255, 255, 0.54);\n",
       "  --xr-font-color3: rgba(255, 255, 255, 0.38);\n",
       "  --xr-border-color: #1F1F1F;\n",
       "  --xr-disabled-color: #515151;\n",
       "  --xr-background-color: #111111;\n",
       "  --xr-background-color-row-even: #111111;\n",
       "  --xr-background-color-row-odd: #313131;\n",
       "}\n",
       "\n",
       ".xr-wrap {\n",
       "  display: block !important;\n",
       "  min-width: 300px;\n",
       "  max-width: 700px;\n",
       "}\n",
       "\n",
       ".xr-text-repr-fallback {\n",
       "  /* fallback to plain text repr when CSS is not injected (untrusted notebook) */\n",
       "  display: none;\n",
       "}\n",
       "\n",
       ".xr-header {\n",
       "  padding-top: 6px;\n",
       "  padding-bottom: 6px;\n",
       "  margin-bottom: 4px;\n",
       "  border-bottom: solid 1px var(--xr-border-color);\n",
       "}\n",
       "\n",
       ".xr-header > div,\n",
       ".xr-header > ul {\n",
       "  display: inline;\n",
       "  margin-top: 0;\n",
       "  margin-bottom: 0;\n",
       "}\n",
       "\n",
       ".xr-obj-type,\n",
       ".xr-array-name {\n",
       "  margin-left: 2px;\n",
       "  margin-right: 10px;\n",
       "}\n",
       "\n",
       ".xr-obj-type {\n",
       "  color: var(--xr-font-color2);\n",
       "}\n",
       "\n",
       ".xr-sections {\n",
       "  padding-left: 0 !important;\n",
       "  display: grid;\n",
       "  grid-template-columns: 150px auto auto 1fr 20px 20px;\n",
       "}\n",
       "\n",
       ".xr-section-item {\n",
       "  display: contents;\n",
       "}\n",
       "\n",
       ".xr-section-item input {\n",
       "  display: none;\n",
       "}\n",
       "\n",
       ".xr-section-item input + label {\n",
       "  color: var(--xr-disabled-color);\n",
       "}\n",
       "\n",
       ".xr-section-item input:enabled + label {\n",
       "  cursor: pointer;\n",
       "  color: var(--xr-font-color2);\n",
       "}\n",
       "\n",
       ".xr-section-item input:enabled + label:hover {\n",
       "  color: var(--xr-font-color0);\n",
       "}\n",
       "\n",
       ".xr-section-summary {\n",
       "  grid-column: 1;\n",
       "  color: var(--xr-font-color2);\n",
       "  font-weight: 500;\n",
       "}\n",
       "\n",
       ".xr-section-summary > span {\n",
       "  display: inline-block;\n",
       "  padding-left: 0.5em;\n",
       "}\n",
       "\n",
       ".xr-section-summary-in:disabled + label {\n",
       "  color: var(--xr-font-color2);\n",
       "}\n",
       "\n",
       ".xr-section-summary-in + label:before {\n",
       "  display: inline-block;\n",
       "  content: '►';\n",
       "  font-size: 11px;\n",
       "  width: 15px;\n",
       "  text-align: center;\n",
       "}\n",
       "\n",
       ".xr-section-summary-in:disabled + label:before {\n",
       "  color: var(--xr-disabled-color);\n",
       "}\n",
       "\n",
       ".xr-section-summary-in:checked + label:before {\n",
       "  content: '▼';\n",
       "}\n",
       "\n",
       ".xr-section-summary-in:checked + label > span {\n",
       "  display: none;\n",
       "}\n",
       "\n",
       ".xr-section-summary,\n",
       ".xr-section-inline-details {\n",
       "  padding-top: 4px;\n",
       "  padding-bottom: 4px;\n",
       "}\n",
       "\n",
       ".xr-section-inline-details {\n",
       "  grid-column: 2 / -1;\n",
       "}\n",
       "\n",
       ".xr-section-details {\n",
       "  display: none;\n",
       "  grid-column: 1 / -1;\n",
       "  margin-bottom: 5px;\n",
       "}\n",
       "\n",
       ".xr-section-summary-in:checked ~ .xr-section-details {\n",
       "  display: contents;\n",
       "}\n",
       "\n",
       ".xr-array-wrap {\n",
       "  grid-column: 1 / -1;\n",
       "  display: grid;\n",
       "  grid-template-columns: 20px auto;\n",
       "}\n",
       "\n",
       ".xr-array-wrap > label {\n",
       "  grid-column: 1;\n",
       "  vertical-align: top;\n",
       "}\n",
       "\n",
       ".xr-preview {\n",
       "  color: var(--xr-font-color3);\n",
       "}\n",
       "\n",
       ".xr-array-preview,\n",
       ".xr-array-data {\n",
       "  padding: 0 5px !important;\n",
       "  grid-column: 2;\n",
       "}\n",
       "\n",
       ".xr-array-data,\n",
       ".xr-array-in:checked ~ .xr-array-preview {\n",
       "  display: none;\n",
       "}\n",
       "\n",
       ".xr-array-in:checked ~ .xr-array-data,\n",
       ".xr-array-preview {\n",
       "  display: inline-block;\n",
       "}\n",
       "\n",
       ".xr-dim-list {\n",
       "  display: inline-block !important;\n",
       "  list-style: none;\n",
       "  padding: 0 !important;\n",
       "  margin: 0;\n",
       "}\n",
       "\n",
       ".xr-dim-list li {\n",
       "  display: inline-block;\n",
       "  padding: 0;\n",
       "  margin: 0;\n",
       "}\n",
       "\n",
       ".xr-dim-list:before {\n",
       "  content: '(';\n",
       "}\n",
       "\n",
       ".xr-dim-list:after {\n",
       "  content: ')';\n",
       "}\n",
       "\n",
       ".xr-dim-list li:not(:last-child):after {\n",
       "  content: ',';\n",
       "  padding-right: 5px;\n",
       "}\n",
       "\n",
       ".xr-has-index {\n",
       "  font-weight: bold;\n",
       "}\n",
       "\n",
       ".xr-var-list,\n",
       ".xr-var-item {\n",
       "  display: contents;\n",
       "}\n",
       "\n",
       ".xr-var-item > div,\n",
       ".xr-var-item label,\n",
       ".xr-var-item > .xr-var-name span {\n",
       "  background-color: var(--xr-background-color-row-even);\n",
       "  margin-bottom: 0;\n",
       "}\n",
       "\n",
       ".xr-var-item > .xr-var-name:hover span {\n",
       "  padding-right: 5px;\n",
       "}\n",
       "\n",
       ".xr-var-list > li:nth-child(odd) > div,\n",
       ".xr-var-list > li:nth-child(odd) > label,\n",
       ".xr-var-list > li:nth-child(odd) > .xr-var-name span {\n",
       "  background-color: var(--xr-background-color-row-odd);\n",
       "}\n",
       "\n",
       ".xr-var-name {\n",
       "  grid-column: 1;\n",
       "}\n",
       "\n",
       ".xr-var-dims {\n",
       "  grid-column: 2;\n",
       "}\n",
       "\n",
       ".xr-var-dtype {\n",
       "  grid-column: 3;\n",
       "  text-align: right;\n",
       "  color: var(--xr-font-color2);\n",
       "}\n",
       "\n",
       ".xr-var-preview {\n",
       "  grid-column: 4;\n",
       "}\n",
       "\n",
       ".xr-index-preview {\n",
       "  grid-column: 2 / 5;\n",
       "  color: var(--xr-font-color2);\n",
       "}\n",
       "\n",
       ".xr-var-name,\n",
       ".xr-var-dims,\n",
       ".xr-var-dtype,\n",
       ".xr-preview,\n",
       ".xr-attrs dt {\n",
       "  white-space: nowrap;\n",
       "  overflow: hidden;\n",
       "  text-overflow: ellipsis;\n",
       "  padding-right: 10px;\n",
       "}\n",
       "\n",
       ".xr-var-name:hover,\n",
       ".xr-var-dims:hover,\n",
       ".xr-var-dtype:hover,\n",
       ".xr-attrs dt:hover {\n",
       "  overflow: visible;\n",
       "  width: auto;\n",
       "  z-index: 1;\n",
       "}\n",
       "\n",
       ".xr-var-attrs,\n",
       ".xr-var-data,\n",
       ".xr-index-data {\n",
       "  display: none;\n",
       "  background-color: var(--xr-background-color) !important;\n",
       "  padding-bottom: 5px !important;\n",
       "}\n",
       "\n",
       ".xr-var-attrs-in:checked ~ .xr-var-attrs,\n",
       ".xr-var-data-in:checked ~ .xr-var-data,\n",
       ".xr-index-data-in:checked ~ .xr-index-data {\n",
       "  display: block;\n",
       "}\n",
       "\n",
       ".xr-var-data > table {\n",
       "  float: right;\n",
       "}\n",
       "\n",
       ".xr-var-name span,\n",
       ".xr-var-data,\n",
       ".xr-index-name div,\n",
       ".xr-index-data,\n",
       ".xr-attrs {\n",
       "  padding-left: 25px !important;\n",
       "}\n",
       "\n",
       ".xr-attrs,\n",
       ".xr-var-attrs,\n",
       ".xr-var-data,\n",
       ".xr-index-data {\n",
       "  grid-column: 1 / -1;\n",
       "}\n",
       "\n",
       "dl.xr-attrs {\n",
       "  padding: 0;\n",
       "  margin: 0;\n",
       "  display: grid;\n",
       "  grid-template-columns: 125px auto;\n",
       "}\n",
       "\n",
       ".xr-attrs dt,\n",
       ".xr-attrs dd {\n",
       "  padding: 0;\n",
       "  margin: 0;\n",
       "  float: left;\n",
       "  padding-right: 10px;\n",
       "  width: auto;\n",
       "}\n",
       "\n",
       ".xr-attrs dt {\n",
       "  font-weight: normal;\n",
       "  grid-column: 1;\n",
       "}\n",
       "\n",
       ".xr-attrs dt:hover span {\n",
       "  display: inline-block;\n",
       "  background: var(--xr-background-color);\n",
       "  padding-right: 10px;\n",
       "}\n",
       "\n",
       ".xr-attrs dd {\n",
       "  grid-column: 2;\n",
       "  white-space: pre-wrap;\n",
       "  word-break: break-all;\n",
       "}\n",
       "\n",
       ".xr-icon-database,\n",
       ".xr-icon-file-text2,\n",
       ".xr-no-icon {\n",
       "  display: inline-block;\n",
       "  vertical-align: middle;\n",
       "  width: 1em;\n",
       "  height: 1.5em !important;\n",
       "  stroke-width: 0;\n",
       "  stroke: currentColor;\n",
       "  fill: currentColor;\n",
       "}\n",
       "</style><pre class='xr-text-repr-fallback'>&lt;xarray.Dataset&gt; Size: 867GB\n",
       "Dimensions:  (time: 25053, ROW: 381, COL: 1081, resolution: 21, VAR: 1,\n",
       "              DATE-TIME: 2)\n",
       "Dimensions without coordinates: time, ROW, COL, resolution, VAR, DATE-TIME\n",
       "Data variables:\n",
       "    PM25     (time, ROW, COL, resolution) float32 867GB ...\n",
       "    TFLAG    (time, VAR, DATE-TIME) int32 200kB ...\n",
       "Attributes: (12/34)\n",
       "    IOAPI_VERSION:  $Id: @(#) ioapi library version 3.0 $                    ...\n",
       "    EXEC_ID:        ????????????????                                         ...\n",
       "    FTYPE:          1\n",
       "    CDATE:          2024003\n",
       "    CTIME:          120044\n",
       "    WDATE:          2024003\n",
       "    ...             ...\n",
       "    GDNAM:          HYSPLIT CONC    \n",
       "    UPNAM:          hysplit2netCDF  \n",
       "    VAR-LIST:       PM25            \n",
       "    FILEDESC:       Hysplit Concentration Model Output                       ...\n",
       "    HISTORY:        \n",
       "    idx_url:        http://atlantis.sci.utah.edu/mod_visus?dataset=UBC_fire_s...</pre><div class='xr-wrap' style='display:none'><div class='xr-header'><div class='xr-obj-type'>xarray.Dataset</div></div><ul class='xr-sections'><li class='xr-section-item'><input id='section-9960927b-aeb9-4f4e-9a3f-50d620aaa80e' class='xr-section-summary-in' type='checkbox' disabled ><label for='section-9960927b-aeb9-4f4e-9a3f-50d620aaa80e' class='xr-section-summary'  title='Expand/collapse section'>Dimensions:</label><div class='xr-section-inline-details'><ul class='xr-dim-list'><li><span>time</span>: 25053</li><li><span>ROW</span>: 381</li><li><span>COL</span>: 1081</li><li><span>resolution</span>: 21</li><li><span>VAR</span>: 1</li><li><span>DATE-TIME</span>: 2</li></ul></div><div class='xr-section-details'></div></li><li class='xr-section-item'><input id='section-f10c20ee-61c5-4292-8919-ddb9c245f251' class='xr-section-summary-in' type='checkbox' disabled ><label for='section-f10c20ee-61c5-4292-8919-ddb9c245f251' class='xr-section-summary'  title='Expand/collapse section'>Coordinates: <span>(0)</span></label><div class='xr-section-inline-details'></div><div class='xr-section-details'><ul class='xr-var-list'></ul></div></li><li class='xr-section-item'><input id='section-b5ab0bd0-99e9-4a0b-8493-728f310db832' class='xr-section-summary-in' type='checkbox'  checked><label for='section-b5ab0bd0-99e9-4a0b-8493-728f310db832' class='xr-section-summary' >Data variables: <span>(2)</span></label><div class='xr-section-inline-details'></div><div class='xr-section-details'><ul class='xr-var-list'><li class='xr-var-item'><div class='xr-var-name'><span>PM25</span></div><div class='xr-var-dims'>(time, ROW, COL, resolution)</div><div class='xr-var-dtype'>float32</div><div class='xr-var-preview xr-preview'>...</div><input id='attrs-c5e34190-1070-4aea-abec-5c886809c906' class='xr-var-attrs-in' type='checkbox' ><label for='attrs-c5e34190-1070-4aea-abec-5c886809c906' title='Show/Hide attributes'><svg class='icon xr-icon-file-text2'><use xlink:href='#icon-file-text2'></use></svg></label><input id='data-24f1755e-e193-4d60-b53e-3a872415e5a2' class='xr-var-data-in' type='checkbox'><label for='data-24f1755e-e193-4d60-b53e-3a872415e5a2' title='Show/Hide data repr'><svg class='icon xr-icon-database'><use xlink:href='#icon-database'></use></svg></label><div class='xr-var-attrs'><dl class='xr-attrs'><dt><span>long_name :</span></dt><dd>PM25            </dd><dt><span>units :</span></dt><dd>ug/m^3          </dd><dt><span>var_desc :</span></dt><dd>PM25                                                                            </dd></dl></div><div class='xr-var-data'><pre>[216685426293 values with dtype=float32]</pre></div></li><li class='xr-var-item'><div class='xr-var-name'><span>TFLAG</span></div><div class='xr-var-dims'>(time, VAR, DATE-TIME)</div><div class='xr-var-dtype'>int32</div><div class='xr-var-preview xr-preview'>...</div><input id='attrs-2e2c4534-3002-49f4-9bb2-2e3854c1390f' class='xr-var-attrs-in' type='checkbox' ><label for='attrs-2e2c4534-3002-49f4-9bb2-2e3854c1390f' title='Show/Hide attributes'><svg class='icon xr-icon-file-text2'><use xlink:href='#icon-file-text2'></use></svg></label><input id='data-be43c6eb-bdd8-4ea8-a2d5-cef0e1b436dd' class='xr-var-data-in' type='checkbox'><label for='data-be43c6eb-bdd8-4ea8-a2d5-cef0e1b436dd' title='Show/Hide data repr'><svg class='icon xr-icon-database'><use xlink:href='#icon-database'></use></svg></label><div class='xr-var-attrs'><dl class='xr-attrs'><dt><span>units :</span></dt><dd>&lt;YYYYDDD,HHMMSS&gt;</dd><dt><span>long_name :</span></dt><dd>TFLAG           </dd><dt><span>var_desc :</span></dt><dd>Timestep-valid flags:  (1) YYYYDDD or (2) HHMMSS                                </dd></dl></div><div class='xr-var-data'><pre>[50106 values with dtype=int32]</pre></div></li></ul></div></li><li class='xr-section-item'><input id='section-c96247c8-c1a3-439f-8b4c-8dc61e0d800a' class='xr-section-summary-in' type='checkbox' disabled ><label for='section-c96247c8-c1a3-439f-8b4c-8dc61e0d800a' class='xr-section-summary'  title='Expand/collapse section'>Indexes: <span>(0)</span></label><div class='xr-section-inline-details'></div><div class='xr-section-details'><ul class='xr-var-list'></ul></div></li><li class='xr-section-item'><input id='section-cba5621a-221a-4e7e-bc18-b565d146ca38' class='xr-section-summary-in' type='checkbox'  ><label for='section-cba5621a-221a-4e7e-bc18-b565d146ca38' class='xr-section-summary' >Attributes: <span>(34)</span></label><div class='xr-section-inline-details'></div><div class='xr-section-details'><dl class='xr-attrs'><dt><span>IOAPI_VERSION :</span></dt><dd>$Id: @(#) ioapi library version 3.0 $                                           </dd><dt><span>EXEC_ID :</span></dt><dd>????????????????                                                                </dd><dt><span>FTYPE :</span></dt><dd>1</dd><dt><span>CDATE :</span></dt><dd>2024003</dd><dt><span>CTIME :</span></dt><dd>120044</dd><dt><span>WDATE :</span></dt><dd>2024003</dd><dt><span>WTIME :</span></dt><dd>120044</dd><dt><span>SDATE :</span></dt><dd>2024003</dd><dt><span>STIME :</span></dt><dd>90000</dd><dt><span>TSTEP :</span></dt><dd>10000</dd><dt><span>NTHIK :</span></dt><dd>1</dd><dt><span>NCOLS :</span></dt><dd>1081</dd><dt><span>NROWS :</span></dt><dd>381</dd><dt><span>NLAYS :</span></dt><dd>1</dd><dt><span>NVARS :</span></dt><dd>1</dd><dt><span>GDTYP :</span></dt><dd>1</dd><dt><span>P_ALP :</span></dt><dd>0.0</dd><dt><span>P_BET :</span></dt><dd>0.0</dd><dt><span>P_GAM :</span></dt><dd>0.0</dd><dt><span>XCENT :</span></dt><dd>-106.0</dd><dt><span>YCENT :</span></dt><dd>51.0</dd><dt><span>XORIG :</span></dt><dd>-160.0</dd><dt><span>YORIG :</span></dt><dd>32.0</dd><dt><span>XCELL :</span></dt><dd>0.10000000149011612</dd><dt><span>YCELL :</span></dt><dd>0.10000000149011612</dd><dt><span>VGTYP :</span></dt><dd>5</dd><dt><span>VGTOP :</span></dt><dd>-9999.0</dd><dt><span>VGLVLS :</span></dt><dd>[10.  0.]</dd><dt><span>GDNAM :</span></dt><dd>HYSPLIT CONC    </dd><dt><span>UPNAM :</span></dt><dd>hysplit2netCDF  </dd><dt><span>VAR-LIST :</span></dt><dd>PM25            </dd><dt><span>FILEDESC :</span></dt><dd>Hysplit Concentration Model Output                                              lat-lon coordinate system                                                                                                                                                                                                                                                                                                                                                                                                                                                                                                                                                                                                                                                                                                                                                                                                                                                                                                                                                                                                                                                                                                                                                                                                                                                                                                                                                                                                                                                                                                                                                                                                                                                                                                                                                                                                                                                                                                                                                                                                                                                                                                                                                                                                                                                                                                                                                                                                                                                                                                                                                                                                                                                                                                                                                                                                                                                                                                                                                                                                                                                                                                                                                                                                                                                                                                                                                                                                                                                                                                                                                                                                                                                                                                                                                                                                                                                                                                                                                                                                                                                                                                                                                                                                                                                                                                                                                                                                                                                                                                                                                                                                                                                                                                                                                                                                                                                                                       </dd><dt><span>HISTORY :</span></dt><dd></dd><dt><span>idx_url :</span></dt><dd>http://atlantis.sci.utah.edu/mod_visus?dataset=UBC_fire_smoke_BSC&amp;cached=1</dd></dl></div></li></ul></div></div>"
      ],
      "text/plain": [
       "<xarray.Dataset> Size: 867GB\n",
       "Dimensions:  (time: 25053, ROW: 381, COL: 1081, resolution: 21, VAR: 1,\n",
       "              DATE-TIME: 2)\n",
       "Dimensions without coordinates: time, ROW, COL, resolution, VAR, DATE-TIME\n",
       "Data variables:\n",
       "    PM25     (time, ROW, COL, resolution) float32 867GB ...\n",
       "    TFLAG    (time, VAR, DATE-TIME) int32 200kB ...\n",
       "Attributes: (12/34)\n",
       "    IOAPI_VERSION:  $Id: @(#) ioapi library version 3.0 $                    ...\n",
       "    EXEC_ID:        ????????????????                                         ...\n",
       "    FTYPE:          1\n",
       "    CDATE:          2024003\n",
       "    CTIME:          120044\n",
       "    WDATE:          2024003\n",
       "    ...             ...\n",
       "    GDNAM:          HYSPLIT CONC    \n",
       "    UPNAM:          hysplit2netCDF  \n",
       "    VAR-LIST:       PM25            \n",
       "    FILEDESC:       Hysplit Concentration Model Output                       ...\n",
       "    HISTORY:        \n",
       "    idx_url:        http://atlantis.sci.utah.edu/mod_visus?dataset=UBC_fire_s..."
      ]
     },
     "execution_count": 5,
     "metadata": {},
     "output_type": "execute_result"
    }
   ],
   "source": [
    "ds"
   ]
  },
  {
   "cell_type": "markdown",
   "id": "385474fb-b159-47a5-87f6-884a2e6b4a0b",
   "metadata": {},
   "source": [
    "## **Step 2.5, Calculate derived metadata using original metadata above to create coordinates**\n",
    "### This is required to allow for indexing of data via metadata"
   ]
  },
  {
   "cell_type": "markdown",
   "id": "758cd2bb-b75d-484f-82df-fe702ae15506",
   "metadata": {},
   "source": [
    "#### Calculate latitude and longitude grid"
   ]
  },
  {
   "cell_type": "code",
   "execution_count": 6,
   "id": "35d6b10f-6613-42ea-a0f8-a5e82d2e71df",
   "metadata": {},
   "outputs": [
    {
     "name": "stdout",
     "output_type": "stream",
     "text": [
      "Size of longitude & latitude arrays:\n",
      "np.size(longitude) = 1081\n",
      "np.size(latitude) = 381\n",
      "\n",
      "Min & Max of longitude and latitude arrays:\n",
      "longitude: min = -160.0, max = -51.99999839067459\n",
      "latitude: min = 32.0, max = 70.00000056624413\n"
     ]
    }
   ],
   "source": [
    "# Get metadata to compute lon and lat\n",
    "xorig = ds.XORIG\n",
    "yorig = ds.YORIG\n",
    "xcell = ds.XCELL\n",
    "ycell = ds.YCELL\n",
    "ncols = ds.NCOLS\n",
    "nrows = ds.NROWS\n",
    "\n",
    "longitude = np.linspace(xorig, xorig + xcell * (ncols - 1), ncols)\n",
    "latitude = np.linspace(yorig, yorig + ycell * (nrows - 1), nrows)\n",
    "\n",
    "print(\"Size of longitude & latitude arrays:\")\n",
    "print(f'np.size(longitude) = {np.size(longitude)}')\n",
    "print(f'np.size(latitude) = {np.size(latitude)}\\n')\n",
    "print(\"Min & Max of longitude and latitude arrays:\")\n",
    "print(f'longitude: min = {np.min(longitude)}, max = {np.max(longitude)}')\n",
    "print(f'latitude: min = {np.min(latitude)}, max = {np.max(latitude)}')"
   ]
  },
  {
   "cell_type": "markdown",
   "id": "1dd48faf-1332-439f-955e-150bd60888c8",
   "metadata": {},
   "source": [
    "#### Using calculated latitude and longitude, create coordinates allowing for indexing data using lat/lon"
   ]
  },
  {
   "cell_type": "code",
   "execution_count": 7,
   "id": "f889a8c8-29e1-4202-a02a-695765aedef5",
   "metadata": {
    "tags": []
   },
   "outputs": [],
   "source": [
    "# Create coordinates for lat and lon (credit: Aashish Panta)\n",
    "ds.coords['lat'] = ('ROW', latitude)\n",
    "ds.coords['lon'] = ('COL', longitude)\n",
    "\n",
    "# Replace col and row dimensions with newly calculated lon and lat arrays (credit: Aashish Panta)\n",
    "ds = ds.swap_dims({'COL': 'lon', 'ROW': 'lat'})"
   ]
  },
  {
   "cell_type": "markdown",
   "id": "f3cbb2b3-7bbf-47a7-b12b-f30e34de6a2e",
   "metadata": {},
   "source": [
    "#### Create coordinates allowing for indexing data using timestamp"
   ]
  },
  {
   "cell_type": "markdown",
   "id": "e9083682-25cb-4d51-8d2e-765b377e3b67",
   "metadata": {},
   "source": [
    "##### First, convert tflags to timestamps that are compatible with xarray"
   ]
  },
  {
   "cell_type": "code",
   "execution_count": 8,
   "id": "c72cd60c-3ca6-4dd8-9f21-09ec41a27fb6",
   "metadata": {
    "scrolled": true
   },
   "outputs": [],
   "source": [
    "def parse_tflag(tflag):\n",
    "    \"\"\"\n",
    "    Return the tflag as a datetime object\n",
    "    :param list tflag: a list of two int32, the 1st representing date and 2nd representing time\n",
    "    \"\"\"\n",
    "    # obtain year and day of year from tflag[0] (date)\n",
    "    date = int(tflag[0])\n",
    "    year = date // 1000 # first 4 digits of tflag[0]\n",
    "    day_of_year = date % 1000 # last 3 digits of tflag[0]\n",
    "\n",
    "    # create datetime object representing date\n",
    "    final_date = datetime.datetime(year, 1, 1) + datetime.timedelta(days=day_of_year - 1)\n",
    "\n",
    "    # obtain hour, mins, and secs from tflag[1] (time)\n",
    "    time = int(tflag[1])\n",
    "    hours = time // 10000 # first 2 digits of tflag[1]\n",
    "    minutes = (time % 10000) // 100 # 3rd and 4th digits of tflag[1] \n",
    "    seconds = time % 100  # last 2 digits of tflag[1]\n",
    "\n",
    "    # create final datetime object\n",
    "    full_datetime = datetime.datetime(year, final_date.month, final_date.day, hours, minutes, seconds)\n",
    "    return full_datetime"
   ]
  },
  {
   "cell_type": "markdown",
   "id": "de2bc716-bb8f-4b1e-8947-a2d52b688a74",
   "metadata": {},
   "source": [
    "##### Return an array of the tflags as pandas timestamps"
   ]
  },
  {
   "cell_type": "code",
   "execution_count": 9,
   "id": "f4c6a5cd-0a71-46b0-ac63-0c18290c1286",
   "metadata": {},
   "outputs": [
    {
     "data": {
      "text/plain": [
       "[Timestamp('2021-03-04 00:00:00'),\n",
       " Timestamp('2021-03-04 01:00:00'),\n",
       " Timestamp('2021-03-04 02:00:00')]"
      ]
     },
     "execution_count": 9,
     "metadata": {},
     "output_type": "execute_result"
    }
   ],
   "source": [
    "# get all tflags\n",
    "tflag_values = ds['TFLAG'].values\n",
    "\n",
    "# to store pandas timestamps\n",
    "timestamps = []\n",
    "\n",
    "# convert all tflags to pandas timestamps, store in timestamps list\n",
    "for tflag in tflag_values:\n",
    "    timestamps.append(pd.Timestamp(parse_tflag(tflag[0])))\n",
    "\n",
    "# check out the first 3 timestamps\n",
    "timestamps[0:3]"
   ]
  },
  {
   "cell_type": "code",
   "execution_count": 10,
   "id": "867c6c2b-8a9e-44b6-9dfc-49838d0c9c04",
   "metadata": {},
   "outputs": [],
   "source": [
    "# set coordinates to each timestep with these pandas timestamps\n",
    "ds.coords['time'] = ('time', timestamps)"
   ]
  },
  {
   "cell_type": "markdown",
   "id": "0844360e-9d19-4bc0-9f09-0024b64f402c",
   "metadata": {},
   "source": [
    "#### The timestamps may not be intuitive. The following utility function returns the desired pandas timestamp based on your date and time of interest. \n",
    "\n",
    "##### When you index the data at a desired time, use this function to get the timestamp you need to index."
   ]
  },
  {
   "cell_type": "code",
   "execution_count": 11,
   "id": "7ae260b4-0b7d-48e7-909d-7fe9ba82bf61",
   "metadata": {},
   "outputs": [],
   "source": [
    "def get_timestamp(year, month, day, hour):\n",
    "    \"\"\"\n",
    "    return a pandas timestamp using the given date-time arguments\n",
    "    :param int year: year\n",
    "    :param int month: month\n",
    "    :param int day: day\n",
    "    :param int hour: hour\n",
    "    \"\"\"\n",
    "    # Convert year, month, day, and hour to a datetime object\n",
    "    full_datetime = datetime.datetime(year, month, day, hour)\n",
    "    \n",
    "    # Extract components from the datetime object\n",
    "    year = full_datetime.year\n",
    "    day_of_year = full_datetime.timetuple().tm_yday\n",
    "    hours = full_datetime.hour\n",
    "    minutes = full_datetime.minute\n",
    "    seconds = full_datetime.second\n",
    "\n",
    "    # Compute tflag[0] and tflag[1]\n",
    "    tflag0 = year * 1000 + day_of_year\n",
    "    tflag1 = hours * 10000 + minutes * 100 + seconds\n",
    "\n",
    "    # Return the Pandas Timestamp object\n",
    "    return pd.Timestamp(full_datetime)"
   ]
  },
  {
   "cell_type": "markdown",
   "id": "ebe3db04-4720-4e1c-856e-e962d4dda777",
   "metadata": {
    "tags": []
   },
   "source": [
    "## **Step 3:  Select a `data_slice`**\n",
    "### This section shows you how to load the data you want. "
   ]
  },
  {
   "cell_type": "markdown",
   "id": "16c23b6e-1d6e-4557-a6b9-087ae2953769",
   "metadata": {},
   "source": [
    "#### You can index the data using indices, timestamps*, latitude & longitude, and by desired resolution**.\n",
    "*Not setting any time means the first timestep available is selected.\n",
    "**Not setting quality means full data resolution is selected.\n",
    "\n",
    "---"
   ]
  },
  {
   "cell_type": "markdown",
   "id": "240bcb9e-61b8-4249-8042-aaf4fc35a205",
   "metadata": {},
   "source": [
    "##### In this case, let's get all available firesmoke data for March 5, 2021 00:00:00."
   ]
  },
  {
   "cell_type": "code",
   "execution_count": 12,
   "id": "9aea7adf-5eb2-4480-99ec-a3ef7047d3e0",
   "metadata": {},
   "outputs": [
    {
     "name": "stdout",
     "output_type": "stream",
     "text": [
      "timestamp: 2021-03-05 00:00:00\n",
      "Using Max Resolution:  20\n",
      "shape of data_array_at_time.values = (381, 1081)\n"
     ]
    }
   ],
   "source": [
    "# select timestamp\n",
    "my_timestamp = get_timestamp(2021, 3, 5, 0)\n",
    "\n",
    "# select resolution, let's use full resolution since data isn't too big at one time slice\n",
    "# data resolution can be -19 for lowest res and 0 for highest res\n",
    "data_resolution = 0\n",
    "\n",
    "# get PM25 values and provide 4 values, the colons mean select all lat and lon indices\n",
    "data_array_at_time = ds['PM25'].loc[my_timestamp, :, :, data_resolution]\n",
    "\n",
    "# notice, to access the data, you must append \".values\" to the data array we got above\n",
    "print(f'timestamp: {my_timestamp}')\n",
    "print(f'shape of data_array_at_time.values = {np.shape(data_array_at_time.values)}')"
   ]
  },
  {
   "cell_type": "markdown",
   "id": "3a53af2f-c1a6-4379-a685-341576b4f8d9",
   "metadata": {},
   "source": [
    "##### Perhaps we want to slice a specific latitude longitude range from our `data_array_at_time`, for example, latitude range `[35, 50]` and longitude range `[-140, -80]`. Let's do that below."
   ]
  },
  {
   "cell_type": "code",
   "execution_count": 13,
   "id": "a74de20b-30bf-4bed-bb25-745c1ad6403b",
   "metadata": {},
   "outputs": [
    {
     "name": "stdout",
     "output_type": "stream",
     "text": [
      "timestamp: 2021-03-05 00:00:00\n",
      "Using Max Resolution:  20\n",
      "shape of data_array_at_time.values = (150, 600)\n"
     ]
    }
   ],
   "source": [
    "# # define range for latitude and longitude to use\n",
    "min_lat = 35\n",
    "max_lat = 50\n",
    "min_lon = -140\n",
    "max_lon = -80\n",
    "\n",
    "# min_lon = np.min(longitude)\n",
    "# max_lon = np.max(longitude)\n",
    "# min_lat = np.min(latitude)\n",
    "# max_lat = np.max(latitude)\n",
    "\n",
    "# get PM25 values and provide 4 values, but this time at our desired ranges\n",
    "data_array_at_latlon = ds['PM25'].loc[my_timestamp, min_lat:max_lat, min_lon:max_lon, data_resolution]\n",
    "\n",
    "# notice, to access the data, you must append \".values\" to the data array we got above\n",
    "print(f'timestamp: {my_timestamp}')\n",
    "print(f'shape of data_array_at_time.values = {np.shape(data_array_at_latlon.values)}')"
   ]
  },
  {
   "cell_type": "markdown",
   "id": "7f51ca29-0307-4695-ac3d-582b00fa33d6",
   "metadata": {},
   "source": [
    "#### The following are the max and min timestamps, lon/lat values, and data resolutions you can index by\n",
    "##### Be sure you index within the data range, otherwise you may get errors since no data exists outside these ranges!"
   ]
  },
  {
   "cell_type": "code",
   "execution_count": 14,
   "id": "8689f676-5f72-434f-aa84-f3f608dc9a4c",
   "metadata": {},
   "outputs": [
    {
     "name": "stdout",
     "output_type": "stream",
     "text": [
      "earliest valid timestamp is: 2021-03-04T00:00:00.000000000\n",
      "latest valid timestamp is: 2024-02-10T22:00:00.000000000\n",
      "\n",
      "valid longitude range is: -160.0, -51.99999839067459\n",
      "valid latitude range is: 32.0, 70.00000056624413\n",
      "\n",
      "valid data resolutions range is: [-19, 0]\n"
     ]
    }
   ],
   "source": [
    "# NOTE: there is one dummy date, ignore ds['time'].values[-1]\n",
    "print(f\"earliest valid timestamp is: {ds['time'].values[0]}\")\n",
    "print(f\"latest valid timestamp is: {ds['time'].values[-2]}\\n\")\n",
    "\n",
    "print(f\"valid longitude range is: {ds['lon'].values[0]}, {ds['lon'].values[-1]}\")\n",
    "print(f\"valid latitude range is: {ds['lat'].values[0]}, {ds['lat'].values[-1]}\\n\")\n",
    "\n",
    "print(f\"valid data resolutions range is: [-19, 0]\")"
   ]
  },
  {
   "cell_type": "markdown",
   "id": "db8a4846-f9ad-44a7-a39d-c1e2d28717b9",
   "metadata": {},
   "source": [
    "## **Step 4:  Visualize `data_slice`**\n",
    "### One can visualize the data either by:\n",
    "### 1. Get the values from your `data_array_at_time` and plot using your favorite python visualization library. We'll use matplotlib.\n",
    "#### 2. Use xarray's built in plotting function (not recommended, as it is not robust)\n",
    "---"
   ]
  },
  {
   "cell_type": "markdown",
   "id": "d50c6232-021f-45e5-b680-e00fa3b1efd3",
   "metadata": {},
   "source": [
    "Here we plot `data_array_at_time` with matplotlib and its basemap extenstion to add geographic context."
   ]
  },
  {
   "cell_type": "code",
   "execution_count": 15,
   "id": "c58133a1",
   "metadata": {
    "tags": []
   },
   "outputs": [
    {
     "ename": "NameError",
     "evalue": "name 'ccrs' is not defined",
     "output_type": "error",
     "traceback": [
      "\u001b[0;31m---------------------------------------------------------------------------\u001b[0m",
      "\u001b[0;31mNameError\u001b[0m                                 Traceback (most recent call last)",
      "\u001b[0;32m/var/folders/js/z1b9rlcx6kjbl517dzsxxy540000gn/T/ipykernel_46937/3711316851.py\u001b[0m in \u001b[0;36m<module>\u001b[0;34m\u001b[0m\n\u001b[1;32m      5\u001b[0m \u001b[0;31m# ref: https://matplotlib.org/stable/api/_as_gen/matplotlib.pyplot.subplots.html\u001b[0m\u001b[0;34m\u001b[0m\u001b[0;34m\u001b[0m\u001b[0m\n\u001b[1;32m      6\u001b[0m \u001b[0;31m# ref: https://scitools.org.uk/cartopy/docs/latest/getting_started/index.html\u001b[0m\u001b[0;34m\u001b[0m\u001b[0;34m\u001b[0m\u001b[0m\n\u001b[0;32m----> 7\u001b[0;31m \u001b[0mmy_fig\u001b[0m\u001b[0;34m,\u001b[0m \u001b[0mmy_plt\u001b[0m \u001b[0;34m=\u001b[0m \u001b[0mplt\u001b[0m\u001b[0;34m.\u001b[0m\u001b[0msubplots\u001b[0m\u001b[0;34m(\u001b[0m\u001b[0mfigsize\u001b[0m\u001b[0;34m=\u001b[0m\u001b[0;34m(\u001b[0m\u001b[0;36m15\u001b[0m\u001b[0;34m,\u001b[0m \u001b[0;36m6\u001b[0m\u001b[0;34m)\u001b[0m\u001b[0;34m,\u001b[0m \u001b[0msubplot_kw\u001b[0m\u001b[0;34m=\u001b[0m\u001b[0mdict\u001b[0m\u001b[0;34m(\u001b[0m\u001b[0mprojection\u001b[0m\u001b[0;34m=\u001b[0m\u001b[0mccrs\u001b[0m\u001b[0;34m.\u001b[0m\u001b[0mPlateCarree\u001b[0m\u001b[0;34m(\u001b[0m\u001b[0;34m)\u001b[0m\u001b[0;34m)\u001b[0m\u001b[0;34m)\u001b[0m\u001b[0;34m\u001b[0m\u001b[0;34m\u001b[0m\u001b[0m\n\u001b[0m\u001b[1;32m      8\u001b[0m \u001b[0;34m\u001b[0m\u001b[0m\n\u001b[1;32m      9\u001b[0m \u001b[0;31m# Let's set some parameters to get the visualization we want\u001b[0m\u001b[0;34m\u001b[0m\u001b[0;34m\u001b[0m\u001b[0m\n",
      "\u001b[0;31mNameError\u001b[0m: name 'ccrs' is not defined"
     ]
    }
   ],
   "source": [
    "# Let's use matplotlib's imshow, since our data is on a grid\n",
    "# ref: https://matplotlib.org/stable/api/_as_gen/matplotlib.pyplot.imshow.html\n",
    "\n",
    "# Initialize a figure and plot, so we can customize figure and plot of data\n",
    "# ref: https://matplotlib.org/stable/api/_as_gen/matplotlib.pyplot.subplots.html\n",
    "# ref: https://scitools.org.uk/cartopy/docs/latest/getting_started/index.html\n",
    "my_fig, my_plt = plt.subplots(figsize=(15, 6), subplot_kw=dict(projection=ccrs.PlateCarree()))\n",
    "\n",
    "# Let's set some parameters to get the visualization we want\n",
    "# ref: https://matplotlib.org/stable/api/_as_gen/matplotlib.pyplot.imshow.html\n",
    "\n",
    "# color PM25 values on a log scale, since values are small\n",
    "my_norm = \"log\" \n",
    "# this will number our x and y axes based on the longitude latitude range\n",
    "my_extent = [np.min(longitude), np.max(longitude), np.min(latitude), np.max(latitude)]\n",
    "# ensure the aspect ratio of our plot fits all data, matplotlib can does this automatically\n",
    "my_aspect = 'auto'\n",
    "# tell matplotlib, our origin is the lower-left corner\n",
    "my_origin = 'lower'\n",
    "# select a colormap for our plot and the color bar on the right\n",
    "my_cmap = 'Oranges'\n",
    "\n",
    "# create our plot using imshow\n",
    "plot = my_plt.imshow(data_array_at_time.values, norm=my_norm, extent=my_extent, \n",
    "          aspect=my_aspect, origin=my_origin, cmap=my_cmap)\n",
    "\n",
    "# draw coastlines\n",
    "my_plt.coastlines()\n",
    "\n",
    "# draw latitude longitude lines\n",
    "# ref: https://scitools.org.uk/cartopy/docs/latest/gallery/gridlines_and_labels/gridliner.html\n",
    "my_plt.gridlines(draw_labels=True)\n",
    "\n",
    "# add a colorbar to our figure, based on the plot we just made above\n",
    "my_fig.colorbar(plot,location='right', label='ug/m^3')\n",
    "\n",
    "# # Set x and y axis labels on our ax\n",
    "# my_plt.set_xlabel('Longitude')\n",
    "# my_plt.set_ylabel('Latitude')\n",
    "\n",
    "# Set title of our figure\n",
    "my_fig.suptitle('Ground level concentration of PM2.5 microns and smaller')\n",
    "\n",
    "# Set title of our plot as the timestamp of our data\n",
    "my_plt.set_title(f'{my_timestamp}')\n",
    "\n",
    "# Show the resulting visualization\n",
    "plt.show()"
   ]
  },
  {
   "cell_type": "markdown",
   "id": "6d6d81b8-e18c-475e-a09f-9ca534f681cd",
   "metadata": {},
   "source": [
    "Here we plot with xarray's built-in matplotlib powered plotter."
   ]
  },
  {
   "cell_type": "code",
   "execution_count": null,
   "id": "ccf70c29-97c3-4ce6-93c7-e6045bef8597",
   "metadata": {
    "tags": []
   },
   "outputs": [],
   "source": [
    "data_array_at_time.plot(vmin=0, vmax=30)"
   ]
  },
  {
   "cell_type": "markdown",
   "id": "6a550d01-8d85-48f0-a121-f06d6ba18b06",
   "metadata": {},
   "source": [
    "---\n",
    "Here we plot data_array_at_latlon. We use the exact same code, but define `my_extent` accordingly."
   ]
  },
  {
   "cell_type": "code",
   "execution_count": 16,
   "id": "5084c252-567b-4339-b71a-691d44d28898",
   "metadata": {},
   "outputs": [
    {
     "ename": "NameError",
     "evalue": "name 'ccrs' is not defined",
     "output_type": "error",
     "traceback": [
      "\u001b[0;31m---------------------------------------------------------------------------\u001b[0m",
      "\u001b[0;31mNameError\u001b[0m                                 Traceback (most recent call last)",
      "\u001b[0;32m/var/folders/js/z1b9rlcx6kjbl517dzsxxy540000gn/T/ipykernel_46937/3809751268.py\u001b[0m in \u001b[0;36m<module>\u001b[0;34m\u001b[0m\n\u001b[1;32m      4\u001b[0m \u001b[0;31m# Initialize a figure and plot, so we can customize figure and plot of data\u001b[0m\u001b[0;34m\u001b[0m\u001b[0;34m\u001b[0m\u001b[0m\n\u001b[1;32m      5\u001b[0m \u001b[0;31m# ref: https://matplotlib.org/stable/api/_as_gen/matplotlib.pyplot.subplots.html\u001b[0m\u001b[0;34m\u001b[0m\u001b[0;34m\u001b[0m\u001b[0m\n\u001b[0;32m----> 6\u001b[0;31m \u001b[0mmy_fig\u001b[0m\u001b[0;34m,\u001b[0m \u001b[0mmy_plt\u001b[0m \u001b[0;34m=\u001b[0m \u001b[0mplt\u001b[0m\u001b[0;34m.\u001b[0m\u001b[0msubplots\u001b[0m\u001b[0;34m(\u001b[0m\u001b[0mfigsize\u001b[0m\u001b[0;34m=\u001b[0m\u001b[0;34m(\u001b[0m\u001b[0;36m15\u001b[0m\u001b[0;34m,\u001b[0m \u001b[0;36m6\u001b[0m\u001b[0;34m)\u001b[0m\u001b[0;34m,\u001b[0m \u001b[0msubplot_kw\u001b[0m\u001b[0;34m=\u001b[0m\u001b[0mdict\u001b[0m\u001b[0;34m(\u001b[0m\u001b[0mprojection\u001b[0m\u001b[0;34m=\u001b[0m\u001b[0mccrs\u001b[0m\u001b[0;34m.\u001b[0m\u001b[0mPlateCarree\u001b[0m\u001b[0;34m(\u001b[0m\u001b[0;34m)\u001b[0m\u001b[0;34m)\u001b[0m\u001b[0;34m)\u001b[0m\u001b[0;34m\u001b[0m\u001b[0;34m\u001b[0m\u001b[0m\n\u001b[0m\u001b[1;32m      7\u001b[0m \u001b[0;34m\u001b[0m\u001b[0m\n\u001b[1;32m      8\u001b[0m \u001b[0;31m# Let's set some parameters to get the visualization we want\u001b[0m\u001b[0;34m\u001b[0m\u001b[0;34m\u001b[0m\u001b[0m\n",
      "\u001b[0;31mNameError\u001b[0m: name 'ccrs' is not defined"
     ]
    }
   ],
   "source": [
    "# Let's use matplotlib's imshow, since our data is on a grid\n",
    "# ref: https://matplotlib.org/stable/api/_as_gen/matplotlib.pyplot.imshow.html\n",
    "\n",
    "# Initialize a figure and plot, so we can customize figure and plot of data\n",
    "# ref: https://matplotlib.org/stable/api/_as_gen/matplotlib.pyplot.subplots.html\n",
    "my_fig, my_plt = plt.subplots(figsize=(15, 6), subplot_kw=dict(projection=ccrs.PlateCarree()))\n",
    "\n",
    "# Let's set some parameters to get the visualization we want\n",
    "# ref: https://matplotlib.org/stable/api/_as_gen/matplotlib.pyplot.imshow.html\n",
    "\n",
    "# color PM25 values on a log scale, since values are small\n",
    "my_norm = \"log\" \n",
    "# ***this will number our x and y axes based on the longitude latitude range***\n",
    "my_extent = [min_lon, max_lon, min_lat, max_lat]\n",
    "# ensure the aspect ratio of our plot fits all data, matplotlib can does this automatically\n",
    "my_aspect = 'auto'\n",
    "# tell matplotlib, our origin is the lower-left corner\n",
    "my_origin = 'lower'\n",
    "# select a colormap for our plot and the color bar on the right\n",
    "my_cmap = 'Oranges'\n",
    "\n",
    "# create our plot using imshow\n",
    "plot = plt.imshow(data_array_at_latlon.values, norm=my_norm, extent=my_extent, \n",
    "          aspect=my_aspect, origin=my_origin, cmap=my_cmap)\n",
    "\n",
    "# draw coastlines\n",
    "my_plt.coastlines()\n",
    "\n",
    "# draw latitude longitude lines\n",
    "# ref: https://scitools.org.uk/cartopy/docs/latest/gallery/gridlines_and_labels/gridliner.html\n",
    "my_plt.gridlines(draw_labels=True)\n",
    "\n",
    "# add a colorbar to our figure, based on the plot we just made above\n",
    "my_fig.colorbar(plot,location='right', label='ug/m^3')\n",
    "\n",
    "# Set x and y axis labels on our ax\n",
    "my_plt.set_xlabel('Longitude')\n",
    "my_plt.set_ylabel('Latitude')\n",
    "\n",
    "# Set title of our figure\n",
    "my_fig.suptitle('Ground level concentration of PM2.5 microns and smaller')\n",
    "\n",
    "# Set title of our plot as the timestamp of our data\n",
    "my_plt.set_title(f'{my_timestamp}')\n",
    "\n",
    "# Show the resulting visualization\n",
    "plt.show()"
   ]
  },
  {
   "cell_type": "code",
   "execution_count": 17,
   "id": "edf41f8c-3774-45cb-82b7-d83e673c054b",
   "metadata": {
    "tags": []
   },
   "outputs": [
    {
     "data": {
      "text/plain": [
       "<matplotlib.collections.QuadMesh at 0x7fc54df40790>"
      ]
     },
     "execution_count": 17,
     "metadata": {},
     "output_type": "execute_result"
    },
    {
     "data": {
      "image/png": "[encoded data removed]",
      "text/plain": [
       "<Figure size 432x288 with 2 Axes>"
      ]
     },
     "metadata": {
      "needs_background": "light"
     },
     "output_type": "display_data"
    }
   ],
   "source": [
    "data_array_at_latlon.plot(vmin=0, vmax=30)"
   ]
  },
  {
   "cell_type": "markdown",
   "id": "d4c13ced-3fc0-406f-8ee4-d8455737e278",
   "metadata": {},
   "source": [
    "### *Please reach out to Arleth Salinas or Valerio Pascucci for any concerns about the notebook. Thank you!*\n",
    "- Arleth Salinas (arleth.salinas@utah.edu)\n",
    "- Valerio Pascucci (pascucci.valerio@gmail.com)"
   ]
  }
 ],
 "metadata": {
  "kernelspec": {
   "display_name": "Python 3 (ipykernel)",
   "language": "python",
   "name": "python3"
  },
  "language_info": {
   "codemirror_mode": {
    "name": "ipython",
    "version": 3
   },
   "file_extension": ".py",
   "mimetype": "text/x-python",
   "name": "python",
   "nbconvert_exporter": "python",
   "pygments_lexer": "ipython3",
   "version": "3.9.7"
  }
 },
 "nbformat": 4,
 "nbformat_minor": 5
}
